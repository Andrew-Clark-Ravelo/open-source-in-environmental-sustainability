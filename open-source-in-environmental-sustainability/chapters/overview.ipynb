{
 "cells": [
  {
   "attachments": {},
   "cell_type": "markdown",
   "metadata": {},
   "source": [
    "# Overview\n",
    "\n",
    "At the time of writing, 1339 projects have been identified worldwide. Of these, 1188 projects are hosted on GitHub, 27 on GitLab and 125 on other websites or self-hosted Git platforms.\n",
    "\n",
    "**A total of 996 active project repositories have been found**. A project is considered active if the public repository has at least one commit or closed issue within the last year. Inactive projects, or those that have become inactive since data collection began two years ago (192), have been excluded from our analysis to prevent distortion of current trends. Unless otherwise noted, all plots in this study refer to active projects. <!-- The statistics on all active and inactive projects in the table below are based on the raw dataset. -->"
   ]
  },
  {
   "cell_type": "code",
   "execution_count": 9,
   "metadata": {
    "tags": [
     "remove-cell"
    ]
   },
   "outputs": [],
   "source": [
    "import numpy as np\n",
    "import pandas as pd\n",
    "import plotly.io as pio\n",
    "import plotly.graph_objects as go\n",
    "import plotly.express as px\n",
    "from opensustainTemplate import *"
   ]
  },
  {
   "cell_type": "code",
   "execution_count": 10,
   "metadata": {
    "tags": [
     "remove-cell"
    ]
   },
   "outputs": [],
   "source": [
    "df_raw = pd.read_csv(\"../csv/projects.csv\")\n",
    "df_raw.rename(columns={\"rubric\": \"topic\"}, inplace=True)\n",
    "df_raw.rename(columns={\"topics\": \"labels\"}, inplace=True)\n",
    "\n",
    "# This projects is two times in the database\n",
    "df_raw = df_raw[\n",
    "    df_raw[\"git_url\"] != \"https://github.com/openfoodfacts/openfoodfacts-server.git\"\n",
    "]"
   ]
  },
  {
   "cell_type": "code",
   "execution_count": 11,
   "metadata": {
    "tags": [
     "remove-cell"
    ]
   },
   "outputs": [],
   "source": [
    "# Age plots are better in years\n",
    "df_raw[\"project_age_in_years\"] = df_raw[\"project_age_in_days\"].apply(lambda x: x / 365)\n",
    "max_age_in_years = 8.0"
   ]
  },
  {
   "cell_type": "code",
   "execution_count": 12,
   "metadata": {
    "tags": [
     "remove-input",
     "hide-output"
    ]
   },
   "outputs": [
    {
     "data": {
      "application/vnd.plotly.v1+json": {
       "config": {
        "plotlyServerURL": "https://plot.ly",
        "responsive": "true",
        "toImageButtonOptions": {
         "format": "svg"
        }
       },
       "data": [
        {
         "cells": {
          "fill": {
           "color": "#ffffff"
          },
          "font": {
           "size": 16
          },
          "height": 30,
          "line": {
           "color": "#ffffff"
          },
          "values": [
           [
            "Total number of projects",
            "GitHub projects",
            "GitLab projects",
            "Other platforms",
            "Number of projects in personal namespace",
            "Number of projects in community namespace",
            "Total stars of all projects",
            "Total contributors in all projects",
            "Active GitHub projects",
            "Inactive GitHub projects",
            "Projects with contribution guide in %",
            "Projects with code of conduct in %",
            "Projects accepting donations in %",
            "Median number of commits",
            "Median stargazers",
            "Median stars last year",
            "Median Development Distribution Score",
            "Median number of contributors",
            "Median closed issues last year",
            "Median commits last year",
            "Median age in years"
           ],
           [
            1339,
            1187,
            27,
            125,
            547,
            792,
            126568,
            14628,
            995,
            192,
            30.58,
            13.98,
            3.71,
            481,
            42,
            11,
            0.3043,
            6,
            8,
            23,
            4.45
           ]
          ]
         },
         "columnwidth": [
          100,
          30
         ],
         "header": {
          "fill": {
           "color": "#ffffff"
          },
          "font": {
           "size": 18
          },
          "line": {
           "color": "#000000"
          },
          "values": [
           "Dimension",
           "Value"
          ]
         },
         "type": "table"
        }
       ],
       "layout": {
        "dragmode": false,
        "height": 700,
        "margin": {
         "b": 0,
         "l": 5,
         "r": 5,
         "t": 5
        },
        "template": {
         "data": {
          "bar": [
           {
            "error_x": {
             "color": "#2a3f5f"
            },
            "error_y": {
             "color": "#2a3f5f"
            },
            "marker": {
             "line": {
              "color": "#E5ECF6",
              "width": 0.5
             },
             "pattern": {
              "fillmode": "overlay",
              "size": 10,
              "solidity": 0.2
             }
            },
            "type": "bar"
           }
          ],
          "barpolar": [
           {
            "marker": {
             "line": {
              "color": "#E5ECF6",
              "width": 0.5
             },
             "pattern": {
              "fillmode": "overlay",
              "size": 10,
              "solidity": 0.2
             }
            },
            "type": "barpolar"
           }
          ],
          "carpet": [
           {
            "aaxis": {
             "endlinecolor": "#2a3f5f",
             "gridcolor": "white",
             "linecolor": "white",
             "minorgridcolor": "white",
             "startlinecolor": "#2a3f5f"
            },
            "baxis": {
             "endlinecolor": "#2a3f5f",
             "gridcolor": "white",
             "linecolor": "white",
             "minorgridcolor": "white",
             "startlinecolor": "#2a3f5f"
            },
            "type": "carpet"
           }
          ],
          "choropleth": [
           {
            "colorbar": {
             "outlinewidth": 0,
             "ticks": ""
            },
            "type": "choropleth"
           }
          ],
          "contour": [
           {
            "colorbar": {
             "outlinewidth": 0,
             "ticks": ""
            },
            "colorscale": [
             [
              0,
              "#0d0887"
             ],
             [
              0.1111111111111111,
              "#46039f"
             ],
             [
              0.2222222222222222,
              "#7201a8"
             ],
             [
              0.3333333333333333,
              "#9c179e"
             ],
             [
              0.4444444444444444,
              "#bd3786"
             ],
             [
              0.5555555555555556,
              "#d8576b"
             ],
             [
              0.6666666666666666,
              "#ed7953"
             ],
             [
              0.7777777777777778,
              "#fb9f3a"
             ],
             [
              0.8888888888888888,
              "#fdca26"
             ],
             [
              1,
              "#f0f921"
             ]
            ],
            "type": "contour"
           }
          ],
          "contourcarpet": [
           {
            "colorbar": {
             "outlinewidth": 0,
             "ticks": ""
            },
            "type": "contourcarpet"
           }
          ],
          "heatmap": [
           {
            "colorbar": {
             "outlinewidth": 0,
             "ticks": ""
            },
            "colorscale": [
             [
              0,
              "#0d0887"
             ],
             [
              0.1111111111111111,
              "#46039f"
             ],
             [
              0.2222222222222222,
              "#7201a8"
             ],
             [
              0.3333333333333333,
              "#9c179e"
             ],
             [
              0.4444444444444444,
              "#bd3786"
             ],
             [
              0.5555555555555556,
              "#d8576b"
             ],
             [
              0.6666666666666666,
              "#ed7953"
             ],
             [
              0.7777777777777778,
              "#fb9f3a"
             ],
             [
              0.8888888888888888,
              "#fdca26"
             ],
             [
              1,
              "#f0f921"
             ]
            ],
            "type": "heatmap"
           }
          ],
          "heatmapgl": [
           {
            "colorbar": {
             "outlinewidth": 0,
             "ticks": ""
            },
            "colorscale": [
             [
              0,
              "#0d0887"
             ],
             [
              0.1111111111111111,
              "#46039f"
             ],
             [
              0.2222222222222222,
              "#7201a8"
             ],
             [
              0.3333333333333333,
              "#9c179e"
             ],
             [
              0.4444444444444444,
              "#bd3786"
             ],
             [
              0.5555555555555556,
              "#d8576b"
             ],
             [
              0.6666666666666666,
              "#ed7953"
             ],
             [
              0.7777777777777778,
              "#fb9f3a"
             ],
             [
              0.8888888888888888,
              "#fdca26"
             ],
             [
              1,
              "#f0f921"
             ]
            ],
            "type": "heatmapgl"
           }
          ],
          "histogram": [
           {
            "marker": {
             "pattern": {
              "fillmode": "overlay",
              "size": 10,
              "solidity": 0.2
             }
            },
            "type": "histogram"
           }
          ],
          "histogram2d": [
           {
            "colorbar": {
             "outlinewidth": 0,
             "ticks": ""
            },
            "colorscale": [
             [
              0,
              "#0d0887"
             ],
             [
              0.1111111111111111,
              "#46039f"
             ],
             [
              0.2222222222222222,
              "#7201a8"
             ],
             [
              0.3333333333333333,
              "#9c179e"
             ],
             [
              0.4444444444444444,
              "#bd3786"
             ],
             [
              0.5555555555555556,
              "#d8576b"
             ],
             [
              0.6666666666666666,
              "#ed7953"
             ],
             [
              0.7777777777777778,
              "#fb9f3a"
             ],
             [
              0.8888888888888888,
              "#fdca26"
             ],
             [
              1,
              "#f0f921"
             ]
            ],
            "type": "histogram2d"
           }
          ],
          "histogram2dcontour": [
           {
            "colorbar": {
             "outlinewidth": 0,
             "ticks": ""
            },
            "colorscale": [
             [
              0,
              "#0d0887"
             ],
             [
              0.1111111111111111,
              "#46039f"
             ],
             [
              0.2222222222222222,
              "#7201a8"
             ],
             [
              0.3333333333333333,
              "#9c179e"
             ],
             [
              0.4444444444444444,
              "#bd3786"
             ],
             [
              0.5555555555555556,
              "#d8576b"
             ],
             [
              0.6666666666666666,
              "#ed7953"
             ],
             [
              0.7777777777777778,
              "#fb9f3a"
             ],
             [
              0.8888888888888888,
              "#fdca26"
             ],
             [
              1,
              "#f0f921"
             ]
            ],
            "type": "histogram2dcontour"
           }
          ],
          "mesh3d": [
           {
            "colorbar": {
             "outlinewidth": 0,
             "ticks": ""
            },
            "type": "mesh3d"
           }
          ],
          "parcoords": [
           {
            "line": {
             "colorbar": {
              "outlinewidth": 0,
              "ticks": ""
             }
            },
            "type": "parcoords"
           }
          ],
          "pie": [
           {
            "automargin": true,
            "type": "pie"
           }
          ],
          "scatter": [
           {
            "fillpattern": {
             "fillmode": "overlay",
             "size": 10,
             "solidity": 0.2
            },
            "type": "scatter"
           }
          ],
          "scatter3d": [
           {
            "line": {
             "colorbar": {
              "outlinewidth": 0,
              "ticks": ""
             }
            },
            "marker": {
             "colorbar": {
              "outlinewidth": 0,
              "ticks": ""
             }
            },
            "type": "scatter3d"
           }
          ],
          "scattercarpet": [
           {
            "marker": {
             "colorbar": {
              "outlinewidth": 0,
              "ticks": ""
             }
            },
            "type": "scattercarpet"
           }
          ],
          "scattergeo": [
           {
            "marker": {
             "colorbar": {
              "outlinewidth": 0,
              "ticks": ""
             }
            },
            "type": "scattergeo"
           }
          ],
          "scattergl": [
           {
            "marker": {
             "colorbar": {
              "outlinewidth": 0,
              "ticks": ""
             }
            },
            "type": "scattergl"
           }
          ],
          "scattermapbox": [
           {
            "marker": {
             "colorbar": {
              "outlinewidth": 0,
              "ticks": ""
             }
            },
            "type": "scattermapbox"
           }
          ],
          "scatterpolar": [
           {
            "marker": {
             "colorbar": {
              "outlinewidth": 0,
              "ticks": ""
             }
            },
            "type": "scatterpolar"
           }
          ],
          "scatterpolargl": [
           {
            "marker": {
             "colorbar": {
              "outlinewidth": 0,
              "ticks": ""
             }
            },
            "type": "scatterpolargl"
           }
          ],
          "scatterternary": [
           {
            "marker": {
             "colorbar": {
              "outlinewidth": 0,
              "ticks": ""
             }
            },
            "type": "scatterternary"
           }
          ],
          "surface": [
           {
            "colorbar": {
             "outlinewidth": 0,
             "ticks": ""
            },
            "colorscale": [
             [
              0,
              "#0d0887"
             ],
             [
              0.1111111111111111,
              "#46039f"
             ],
             [
              0.2222222222222222,
              "#7201a8"
             ],
             [
              0.3333333333333333,
              "#9c179e"
             ],
             [
              0.4444444444444444,
              "#bd3786"
             ],
             [
              0.5555555555555556,
              "#d8576b"
             ],
             [
              0.6666666666666666,
              "#ed7953"
             ],
             [
              0.7777777777777778,
              "#fb9f3a"
             ],
             [
              0.8888888888888888,
              "#fdca26"
             ],
             [
              1,
              "#f0f921"
             ]
            ],
            "type": "surface"
           }
          ],
          "table": [
           {
            "cells": {
             "fill": {
              "color": "#EBF0F8"
             },
             "line": {
              "color": "white"
             }
            },
            "header": {
             "fill": {
              "color": "#C8D4E3"
             },
             "line": {
              "color": "white"
             }
            },
            "type": "table"
           }
          ]
         },
         "layout": {
          "annotationdefaults": {
           "arrowcolor": "#2a3f5f",
           "arrowhead": 0,
           "arrowwidth": 1
          },
          "autotypenumbers": "strict",
          "coloraxis": {
           "colorbar": {
            "outlinewidth": 0,
            "ticks": ""
           }
          },
          "colorscale": {
           "diverging": [
            [
             0,
             "#8e0152"
            ],
            [
             0.1,
             "#c51b7d"
            ],
            [
             0.2,
             "#de77ae"
            ],
            [
             0.3,
             "#f1b6da"
            ],
            [
             0.4,
             "#fde0ef"
            ],
            [
             0.5,
             "#f7f7f7"
            ],
            [
             0.6,
             "#e6f5d0"
            ],
            [
             0.7,
             "#b8e186"
            ],
            [
             0.8,
             "#7fbc41"
            ],
            [
             0.9,
             "#4d9221"
            ],
            [
             1,
             "#276419"
            ]
           ],
           "sequential": [
            [
             0,
             "#0d0887"
            ],
            [
             0.1111111111111111,
             "#46039f"
            ],
            [
             0.2222222222222222,
             "#7201a8"
            ],
            [
             0.3333333333333333,
             "#9c179e"
            ],
            [
             0.4444444444444444,
             "#bd3786"
            ],
            [
             0.5555555555555556,
             "#d8576b"
            ],
            [
             0.6666666666666666,
             "#ed7953"
            ],
            [
             0.7777777777777778,
             "#fb9f3a"
            ],
            [
             0.8888888888888888,
             "#fdca26"
            ],
            [
             1,
             "#f0f921"
            ]
           ],
           "sequentialminus": [
            [
             0,
             "#0d0887"
            ],
            [
             0.1111111111111111,
             "#46039f"
            ],
            [
             0.2222222222222222,
             "#7201a8"
            ],
            [
             0.3333333333333333,
             "#9c179e"
            ],
            [
             0.4444444444444444,
             "#bd3786"
            ],
            [
             0.5555555555555556,
             "#d8576b"
            ],
            [
             0.6666666666666666,
             "#ed7953"
            ],
            [
             0.7777777777777778,
             "#fb9f3a"
            ],
            [
             0.8888888888888888,
             "#fdca26"
            ],
            [
             1,
             "#f0f921"
            ]
           ]
          },
          "colorway": [
           "#636efa",
           "#EF553B",
           "#00cc96",
           "#ab63fa",
           "#FFA15A",
           "#19d3f3",
           "#FF6692",
           "#B6E880",
           "#FF97FF",
           "#FECB52"
          ],
          "font": {
           "color": "#040404",
           "family": "Open Sans",
           "size": 15
          },
          "geo": {
           "bgcolor": "white",
           "lakecolor": "white",
           "landcolor": "#E5ECF6",
           "showlakes": true,
           "showland": true,
           "subunitcolor": "white"
          },
          "hoverlabel": {
           "align": "left"
          },
          "hovermode": "closest",
          "mapbox": {
           "style": "light"
          },
          "margin": {
           "b": 0
          },
          "paper_bgcolor": "white",
          "plot_bgcolor": "#E5ECF6",
          "polar": {
           "angularaxis": {
            "gridcolor": "white",
            "linecolor": "white",
            "ticks": ""
           },
           "bgcolor": "#E5ECF6",
           "radialaxis": {
            "gridcolor": "white",
            "linecolor": "white",
            "ticks": ""
           }
          },
          "scene": {
           "xaxis": {
            "backgroundcolor": "#E5ECF6",
            "gridcolor": "white",
            "gridwidth": 2,
            "linecolor": "white",
            "showbackground": true,
            "ticks": "",
            "zerolinecolor": "white"
           },
           "yaxis": {
            "backgroundcolor": "#E5ECF6",
            "gridcolor": "white",
            "gridwidth": 2,
            "linecolor": "white",
            "showbackground": true,
            "ticks": "",
            "zerolinecolor": "white"
           },
           "zaxis": {
            "backgroundcolor": "#E5ECF6",
            "gridcolor": "white",
            "gridwidth": 2,
            "linecolor": "white",
            "showbackground": true,
            "ticks": "",
            "zerolinecolor": "white"
           }
          },
          "shapedefaults": {
           "line": {
            "color": "#2a3f5f"
           }
          },
          "ternary": {
           "aaxis": {
            "gridcolor": "white",
            "linecolor": "white",
            "ticks": ""
           },
           "baxis": {
            "gridcolor": "white",
            "linecolor": "white",
            "ticks": ""
           },
           "bgcolor": "#E5ECF6",
           "caxis": {
            "gridcolor": "white",
            "linecolor": "white",
            "ticks": ""
           }
          },
          "title": {
           "font": {
            "color": "#040404",
            "family": "Open Sans"
           },
           "x": 0.05
          },
          "xaxis": {
           "automargin": true,
           "gridcolor": "white",
           "linecolor": "white",
           "ticks": "",
           "title": {
            "standoff": 15
           },
           "zerolinecolor": "white",
           "zerolinewidth": 2
          },
          "yaxis": {
           "automargin": true,
           "gridcolor": "white",
           "linecolor": "white",
           "ticks": "",
           "title": {
            "standoff": 15
           },
           "zerolinecolor": "white",
           "zerolinewidth": 2
          }
         }
        }
       }
      }
     },
     "metadata": {},
     "output_type": "display_data"
    }
   ],
   "source": [
    "fig = go.Figure(\n",
    "    data=[\n",
    "        go.Table(\n",
    "            columnwidth=[100, 30],\n",
    "            header=dict(\n",
    "                values=[\"Dimension\", \"Value\"],\n",
    "                line_color=\"#000000\",\n",
    "                fill_color=\"#ffffff\",\n",
    "                font_size=18,\n",
    "            ),\n",
    "            cells=dict(\n",
    "                fill_color=\"#ffffff\",\n",
    "                line_color=\"#ffffff\",\n",
    "                font_size=16,\n",
    "                height=30,\n",
    "                values=[\n",
    "                    [\n",
    "                        \"Total number of projects\",\n",
    "                        \"GitHub projects\",\n",
    "                        \"GitLab projects\",\n",
    "                        \"Other platforms\",\n",
    "                        \"Number of projects in personal namespace\",\n",
    "                        \"Number of projects in community namespace\",\n",
    "                        \"Total stars of all projects\",\n",
    "                        \"Total contributors in all projects\",\n",
    "                        \"Active GitHub projects\",\n",
    "                        \"Inactive GitHub projects\",\n",
    "                        \"Projects with contribution guide in %\",\n",
    "                        \"Projects with code of conduct in %\",\n",
    "                        \"Projects accepting donations in %\",\n",
    "                        \"Median number of commits\",\n",
    "                        \"Median stargazers\",\n",
    "                        \"Median stars last year\",\n",
    "                        \"Median Development Distribution Score\",\n",
    "                        \"Median number of contributors\",\n",
    "                        \"Median closed issues last year\",\n",
    "                        \"Median commits last year\",\n",
    "                        \"Median age in years\",\n",
    "                    ],\n",
    "                    [\n",
    "                        df_raw[\"project_name\"].count(),\n",
    "                        df_raw[\"platform\"].value_counts()[\"github\"],\n",
    "                        df_raw[\"platform\"].value_counts()[\"gitlab\"],\n",
    "                        df_raw[\"platform\"].value_counts()[\"custom\"],\n",
    "                        df_raw[\"project_name\"].count() - df_raw[\"organization\"].count(),\n",
    "                        df_raw[\"organization\"].count(),\n",
    "                        df_raw[\"stargazers_count\"].sum(),\n",
    "                        df_raw[\"contributors\"].sum(),\n",
    "                        df_raw[\"project_active\"].value_counts()[True],\n",
    "                        df_raw[\"project_active\"].value_counts()[False],\n",
    "                        round(\n",
    "                            df_raw[\"contribution_guide\"].value_counts(normalize=True)[\n",
    "                                True\n",
    "                            ]\n",
    "                            * 100,\n",
    "                            2,\n",
    "                        ),\n",
    "                        round(\n",
    "                            df_raw[\"code_of_conduct\"].value_counts(normalize=True)[True]\n",
    "                            * 100,\n",
    "                            2,\n",
    "                        ),\n",
    "                        round(\n",
    "                            df_raw[\"accepts_donations\"].value_counts(normalize=True)[\n",
    "                                True\n",
    "                            ]\n",
    "                            * 100,\n",
    "                            2,\n",
    "                        ),\n",
    "                        df_raw[\"total_number_of_commits\"].median(),\n",
    "                        df_raw[\"stargazers_count\"].median(),\n",
    "                        df_raw[\"stars_last_year\"].median(),\n",
    "                        round(df_raw[\"development_distribution_score\"].median(), 4),\n",
    "                        df_raw[\"contributors\"].median(),\n",
    "                        df_raw[\"issues_closed_last_year\"].median(),\n",
    "                        df_raw[\"total_commits_last_year\"].median(),\n",
    "                        round(df_raw[\"project_age_in_years\"].median(), 2),\n",
    "                    ],\n",
    "                ],\n",
    "            ),\n",
    "        )\n",
    "    ]\n",
    ")\n",
    "\n",
    "\n",
    "fig[\"layout\"].update(margin=dict(l=5, r=5, b=0, t=5))\n",
    "fig.update_layout(height=700, dragmode=False)\n",
    "config = {\n",
    "  'toImageButtonOptions': {\n",
    "    'format': 'svg', # one of png, svg, jpeg, webp\n",
    "  },\n",
    "  'responsive':'true'\n",
    "}\n",
    "fig.show(config=config)"
   ]
  },
  {
   "attachments": {},
   "cell_type": "markdown",
   "metadata": {
    "tags": [
     "remove-cell"
    ]
   },
   "source": [
    "```{figure} data:image/gif;base64,R0lGODlhAQABAIAAAAAAAP///yH5BAEAAAAALAAAAAABAAEAAAIBRAA7\n",
    ":figclass: caption-hack\n",
    ":name: statistics-all-projects\n",
    "\n",
    "<br/>Statistics on all active and inactive projects\n",
    "```"
   ]
  },
  {
   "cell_type": "code",
   "execution_count": 13,
   "metadata": {
    "tags": [
     "remove-cell"
    ]
   },
   "outputs": [],
   "source": [
    "df_active = df_raw.copy()\n",
    "# Filter out the inactive project for further analysis\n",
    "df_active = df_active[(df_active[\"project_active\"] == True)]\n",
    "# Ciruated Lists are no classical open source projects and are not included into the analysis\n",
    "df_active = df_active[(df_active[\"topic\"] != \"Curated Lists\")]\n",
    "# At the time of the data processing just one project was active in this topic.\n",
    "df_active = df_active[(df_active[\"topic\"] != \"Production and Industry\")]\n",
    "\n",
    "# Filter out the projects not on the GitHub platform\n",
    "df_active = df_active[(df_active[\"platform\"] == \"github\")]\n",
    "df_active[\"project_name\"] = df_active[\"project_name\"].replace(\n",
    "    {\n",
    "        \"A Global Inventory of Commerical-, Industrial-, and Utility-Scale Photovoltaic Solar Generating Units\": \"A Global Inventory of Photovoltaic\"\n",
    "    }\n",
    ")\n",
    "df_active[\"project_name\"] = df_active[\"project_name\"].replace(\n",
    "    {\n",
    "        \"Asset-level Transition Risk in the Global Coal, Oil, and Gas Supply Chains\": \"Global Coal, Oil, and Gas Supply Chains\"\n",
    "    }\n",
    ")\n",
    "\n",
    "df_active[\"project_name\"] = df_active[\"project_name\"].replace(\n",
    "    {\n",
    "        \"The REgional Model of INvestments and Development\": \"REMIND\"\n",
    "    }\n",
    ")\n",
    "\n",
    "df_active[\"project_name\"] = df_active[\"project_name\"].replace(\n",
    "    {\n",
    "        \"Hierarchical Engine for Large-scale Infrastructure Co-Simulation\": \"HELICS\"\n",
    "    }\n",
    ")\n",
    "\n",
    "df_active[\"project_name\"] = df_active[\"project_name\"].replace(\n",
    "    {\n",
    "        \"Grid Singularity Energy Exchange Engine (D3A)\": \"Grid Singularity Energy Exchange\"\n",
    "    }\n",
    ")\n",
    "\n",
    "df_active[\"project_name\"] = df_active[\"project_name\"].replace(\n",
    "    {\n",
    "        \"Integrated Valuation of Ecosystem Services and Tradeoffs\": \"InVEST\"\n",
    "    }\n",
    ")\n",
    "\n",
    "\n",
    "\n",
    "def text_to_link(project_name, git_url):\n",
    "    return '<a href=\"' + git_url + '\" target=\"_blank\" style = \"color: black\">' + project_name + \"</a>\"\n",
    "\n",
    "def text_to_bolt(topic):\n",
    "    return '<b>' + topic + \"</b>\"\n",
    "\n",
    "df_active[\"project_name\"] = df_active.apply(\n",
    "    lambda x: text_to_link(x.project_name, x.git_url), axis=1\n",
    ")"
   ]
  },
  {
   "cell_type": "code",
   "execution_count": 14,
   "metadata": {
    "tags": [
     "remove-cell"
    ]
   },
   "outputs": [],
   "source": [
    "## Hack field content into dataset\n",
    "\n",
    "\n",
    "def topic_to_field(topic):\n",
    "    if topic in (\n",
    "        \"Photovoltaics and Solar Energy\",\n",
    "        \"Wind Energy\",\n",
    "        \"Hydro Energy\",\n",
    "        \"Geothermal Energy\",\n",
    "        \"Bioenergy\",\n",
    "    ):\n",
    "        field = \"Renewable Energy\"\n",
    "    elif topic in (\"Battery\", \"Hydrogen\"):\n",
    "        field = \"Energy Storage\"\n",
    "    elif topic in (\n",
    "        \"Energy Modeling and Optimization\",\n",
    "        \"Energy Monitoring and Control\",\n",
    "        \"Energy Distribution and Grids\",\n",
    "        \"Datasets on Energy Systems\",\n",
    "    ):\n",
    "        field = \"Energy Systems\"\n",
    "    elif topic in (\n",
    "        \"Buildings and Heating\",\n",
    "        \"Mobility and Transportation\",\n",
    "        \"Production and Industry\",\n",
    "        \"Computation and Communication\",\n",
    "    ):\n",
    "        field = \"Consumption of Energy and Resources\"\n",
    "    elif topic in (\n",
    "        \"Carbon Intensity and Accounting\",\n",
    "        \"Carbon Capture and Removal\",\n",
    "        \"Emission Observation and Modeling\",\n",
    "    ):\n",
    "        field = \"Emissions\"\n",
    "    elif topic in (\"Life Cycle Assessment\", \"Circular Economy and Waste\"):\n",
    "        field = \"Industrial Ecology\"\n",
    "    elif topic in (\"Biosphere\", \"Cryosphere\", \"Hydrosphere\", \"Atmosphere\"):\n",
    "        field = \"Earth Systems\"\n",
    "    elif topic in (\n",
    "        \"Earth and Climate Modeling\",\n",
    "        \"Radiative Transfer\",\n",
    "        \"Meteorological Observation and Forecast\",\n",
    "        \"Climate Data Processing and Access\",\n",
    "        \"Integrated Assessment\",\n",
    "    ):\n",
    "        field = \"Climate and Earth Science\"\n",
    "    elif topic in (\n",
    "        \"Air Quality\",\n",
    "        \"Water Supply and Quality\",\n",
    "        \"Soil and Land\",\n",
    "        \"Agriculture and Nutrition\",\n",
    "        \"Natural Hazard and Poverty\",\n",
    "    ):\n",
    "        field = \"Natural Resources\"\n",
    "    elif topic in (\n",
    "        \"Sustainable Development Goals\",\n",
    "        \"Sustainable Investment\",\n",
    "        \"Knowledge Platforms\",\n",
    "        \"Data Catalogs and Interfaces\",\n",
    "        \"Curated Lists\",\n",
    "    ):\n",
    "        field = \"Sustainable Development\"\n",
    "    else:\n",
    "        print(topic)\n",
    "        raise ValueError(\"Topic not within fields\")\n",
    "    return field\n",
    "\n",
    "\n",
    "df_active[\"topic\"].replace(\n",
    "    {\"Carbon Capture and Removel\": \"Carbon Capture and Removal\"}, inplace=True\n",
    ")\n",
    "df_active[\"field\"] = df_active[\"topic\"].apply(topic_to_field)\n",
    "df_active[\"field_bolt\"] = df_active[\"field\"].apply(text_to_bolt)\n",
    "df_active[\"topic_bolt\"] = df_active[\"topic\"].apply(text_to_bolt)"
   ]
  },
  {
   "cell_type": "code",
   "execution_count": 15,
   "metadata": {
    "tags": [
     "remove-cell"
    ]
   },
   "outputs": [],
   "source": [
    "# Each project is ranked according to different indicators in the categories of community, activity and size.\n",
    "# A value of 1 represents the highest rank and 0 the lowest.\n",
    "# The individual values are summed up within the categories to create the scores for the different categories.\n",
    "df_active[\"activity\"] = (\n",
    "    df_active[\"total_commits_last_year\"].rank(pct=True)\n",
    "    + df_active[\"issues_closed_last_year\"].rank(pct=True)\n",
    "    + df_active[\"days_until_last_issue_closed\"].rank(pct=True)\n",
    "    + df_active[\"last_released_date\"].rank(pct=True, na_option=\"top\")\n",
    ") / 4\n",
    "\n",
    "df_active[\"community\"] = (\n",
    "    df_active[\"contributors\"].rank(pct=True)\n",
    "    + df_active[\"development_distribution_score\"].rank(pct=True)\n",
    "    + df_active[\"reviews_per_pr\"].rank(pct=True)\n",
    ") / 3\n",
    "\n",
    "df_active[\"size\"] = (\n",
    "    df_active[\"total_number_of_commits\"].rank(pct=True)\n",
    "    + df_active[\"contributors\"].rank(pct=True)\n",
    "    + df_active[\"closed_issues\"].rank(pct=True)\n",
    "    + df_active[\"closed_pullrequests\"].rank(pct=True)\n",
    ") / 4\n",
    "\n",
    "# The scores are summed up and normalised so that 1 represents the largest total score.\n",
    "df_active[\"total_score\"] = (\n",
    "    df_active[\"activity\"] / df_active[\"activity\"].max()\n",
    "    + df_active[\"community\"] / df_active[\"community\"].max()\n",
    "    + df_active[\"size\"] / df_active[\"size\"].max()\n",
    ") / 3"
   ]
  },
  {
   "attachments": {},
   "cell_type": "markdown",
   "metadata": {},
   "source": [
    "## The Open Source Sustainability Ecosystem\n",
    "\n",
    "Projects are grouped into fields based on their primary topic of focus. While the boundaries often overlap, these fields help to paint a broad landscape and can provide insight into the ecosystem health and complexity of fields relative to each other. The following sunburst diagram shows the relationship between fields, topics, and projects. The colour represents the {ref}`dds_chapter`."
   ]
  },
  {
   "cell_type": "code",
   "execution_count": 16,
   "metadata": {
    "tags": [
     "remove-input",
     "full-width"
    ]
   },
   "outputs": [
    {
     "ename": "ValueError",
     "evalue": "Value of 'path_1' is not the name of a column in 'data_frame'. Expected one of ['Unnamed: 0.2', 'Unnamed: 0', 'Unnamed: 0.1', 'Unnamed: 0.1.1', 'Unnamed: 0.1.1.1', 'Unnamed: 0.1.1.1.1', 'Unnamed: 0.1.1.1.1.1', 'Unnamed: 0.1.1.1.1.1.1', 'Unnamed: 0.1.1.1.1.1.1.1', 'Unnamed: 0.1.1.1.1.1.1.1.1', 'Unnamed: 0.1.1.1.1.1.1.1.1.1', 'Unnamed: 0.1.1.1.1.1.1.1.1.1.1', 'Unnamed: 0.1.1.1.1.1.1.1.1.1.1.1', 'Unnamed: 0.1.1.1.1.1.1.1.1.1.1.1.1', 'Unnamed: 0.1.1.1.1.1.1.1.1.1.1.1.1.1', 'Unnamed: 0.1.1.1.1.1.1.1.1.1.1.1.1.1.1', 'Unnamed: 0.1.1.1.1.1.1.1.1.1.1.1.1.1.1.1', 'Unnamed: 0.1.1.1.1.1.1.1.1.1.1.1.1.1.1.1.1', 'Unnamed: 0.1.1.1.1.1.1.1.1.1.1.1.1.1.1.1.1.1', 'Unnamed: 0.1.1.1.1.1.1.1.1.1.1.1.1.1.1.1.1.1.1', 'Unnamed: 0.1.1.1.1.1.1.1.1.1.1.1.1.1.1.1.1.1.1.1', 'Unnamed: 0.1.1.1.1.1.1.1.1.1.1.1.1.1.1.1.1.1.1.1.1', 'project_name', 'oneliner', 'git_namespace', 'git_url', 'platform', 'labels', 'topic', 'last_commit_date', 'stargazers_count', 'number_of_dependents', 'stars_last_year', 'project_active', 'dominating_language', 'organization', 'organization_user_name', 'languages', 'homepage', 'refs', 'project_created', 'project_age_in_days', 'license', 'total_commits_last_year', 'total_number_of_commits', 'last_issue_closed', 'open_issues', 'closed_pullrequests', 'closed_issues', 'issues_closed_last_year', 'days_until_last_issue_closed', 'open_pullrequests', 'reviews_per_pr', 'development_distribution_score', 'last_released_date', 'last_release_tag_name', 'good_first_issue', 'contributors', 'accepts_donations', 'donation_platforms', 'code_of_conduct', 'contribution_guide', 'dependents_repos', 'organization_name', 'organization_github_url', 'organization_website', 'organization_location', 'organization_country', 'organization_form', 'organization_avatar', 'organization_public_repos', 'organization_created', 'organization_last_update', 'project_age_in_years', 'field', 'activity', 'community', 'size', 'total_score', 'hole'] but received: field_bolt",
     "output_type": "error",
     "traceback": [
      "\u001b[0;31m---------------------------------------------------------------------------\u001b[0m",
      "\u001b[0;31mValueError\u001b[0m                                Traceback (most recent call last)",
      "\u001b[1;32m/home/cy0/gitclones/open-source-in-environmental-sustainability/open-source-in-environmental-sustainability/chapters/overview.ipynb Cell 11\u001b[0m line \u001b[0;36m1\n\u001b[1;32m      <a href='vscode-notebook-cell:/home/cy0/gitclones/open-source-in-environmental-sustainability/open-source-in-environmental-sustainability/chapters/overview.ipynb#X13sZmlsZQ%3D%3D?line=5'>6</a>\u001b[0m \u001b[39mfrom\u001b[39;00m \u001b[39mopensustainTemplate\u001b[39;00m \u001b[39mimport\u001b[39;00m \u001b[39m*\u001b[39m\n\u001b[1;32m      <a href='vscode-notebook-cell:/home/cy0/gitclones/open-source-in-environmental-sustainability/open-source-in-environmental-sustainability/chapters/overview.ipynb#X13sZmlsZQ%3D%3D?line=7'>8</a>\u001b[0m df_active \u001b[39m=\u001b[39m pd\u001b[39m.\u001b[39mread_csv(\u001b[39m\"\u001b[39m\u001b[39m../csv/project_analysis.csv\u001b[39m\u001b[39m\"\u001b[39m)\n\u001b[0;32m---> <a href='vscode-notebook-cell:/home/cy0/gitclones/open-source-in-environmental-sustainability/open-source-in-environmental-sustainability/chapters/overview.ipynb#X13sZmlsZQ%3D%3D?line=10'>11</a>\u001b[0m fig \u001b[39m=\u001b[39m px\u001b[39m.\u001b[39;49msunburst(\n\u001b[1;32m     <a href='vscode-notebook-cell:/home/cy0/gitclones/open-source-in-environmental-sustainability/open-source-in-environmental-sustainability/chapters/overview.ipynb#X13sZmlsZQ%3D%3D?line=11'>12</a>\u001b[0m     df_active\u001b[39m.\u001b[39;49massign(\n\u001b[1;32m     <a href='vscode-notebook-cell:/home/cy0/gitclones/open-source-in-environmental-sustainability/open-source-in-environmental-sustainability/chapters/overview.ipynb#X13sZmlsZQ%3D%3D?line=12'>13</a>\u001b[0m         hole\u001b[39m=\u001b[39;49m\u001b[39m'\u001b[39;49m\u001b[39m<b> The Open Source <br> Sustainability Ecosystem </b>\u001b[39;49m\u001b[39m'\u001b[39;49m\n\u001b[1;32m     <a href='vscode-notebook-cell:/home/cy0/gitclones/open-source-in-environmental-sustainability/open-source-in-environmental-sustainability/chapters/overview.ipynb#X13sZmlsZQ%3D%3D?line=13'>14</a>\u001b[0m     ),\n\u001b[1;32m     <a href='vscode-notebook-cell:/home/cy0/gitclones/open-source-in-environmental-sustainability/open-source-in-environmental-sustainability/chapters/overview.ipynb#X13sZmlsZQ%3D%3D?line=14'>15</a>\u001b[0m     path\u001b[39m=\u001b[39;49m[\u001b[39m\"\u001b[39;49m\u001b[39mhole\u001b[39;49m\u001b[39m\"\u001b[39;49m, \u001b[39m\"\u001b[39;49m\u001b[39mfield_bolt\u001b[39;49m\u001b[39m\"\u001b[39;49m, \u001b[39m\"\u001b[39;49m\u001b[39mtopic_bolt\u001b[39;49m\u001b[39m\"\u001b[39;49m, \u001b[39m\"\u001b[39;49m\u001b[39mproject_name\u001b[39;49m\u001b[39m\"\u001b[39;49m],\n\u001b[1;32m     <a href='vscode-notebook-cell:/home/cy0/gitclones/open-source-in-environmental-sustainability/open-source-in-environmental-sustainability/chapters/overview.ipynb#X13sZmlsZQ%3D%3D?line=15'>16</a>\u001b[0m     maxdepth\u001b[39m=\u001b[39;49m\u001b[39m3\u001b[39;49m,\n\u001b[1;32m     <a href='vscode-notebook-cell:/home/cy0/gitclones/open-source-in-environmental-sustainability/open-source-in-environmental-sustainability/chapters/overview.ipynb#X13sZmlsZQ%3D%3D?line=16'>17</a>\u001b[0m     color\u001b[39m=\u001b[39;49m\u001b[39m\"\u001b[39;49m\u001b[39mdevelopment_distribution_score\u001b[39;49m\u001b[39m\"\u001b[39;49m,\n\u001b[1;32m     <a href='vscode-notebook-cell:/home/cy0/gitclones/open-source-in-environmental-sustainability/open-source-in-environmental-sustainability/chapters/overview.ipynb#X13sZmlsZQ%3D%3D?line=17'>18</a>\u001b[0m     custom_data\u001b[39m=\u001b[39;49m[\u001b[39m\"\u001b[39;49m\u001b[39moneliner\u001b[39;49m\u001b[39m\"\u001b[39;49m, \u001b[39m\"\u001b[39;49m\u001b[39mtopic\u001b[39;49m\u001b[39m\"\u001b[39;49m, \u001b[39m\"\u001b[39;49m\u001b[39mgit_url\u001b[39;49m\u001b[39m\"\u001b[39;49m],\n\u001b[1;32m     <a href='vscode-notebook-cell:/home/cy0/gitclones/open-source-in-environmental-sustainability/open-source-in-environmental-sustainability/chapters/overview.ipynb#X13sZmlsZQ%3D%3D?line=18'>19</a>\u001b[0m     color_continuous_scale\u001b[39m=\u001b[39;49mpx\u001b[39m.\u001b[39;49mcolors\u001b[39m.\u001b[39;49msequential\u001b[39m.\u001b[39;49mAggrnyl_r,\n\u001b[1;32m     <a href='vscode-notebook-cell:/home/cy0/gitclones/open-source-in-environmental-sustainability/open-source-in-environmental-sustainability/chapters/overview.ipynb#X13sZmlsZQ%3D%3D?line=19'>20</a>\u001b[0m     \u001b[39m#color_continuous_scale=color_divergent_scale, # Diverging colors\u001b[39;49;00m\n\u001b[1;32m     <a href='vscode-notebook-cell:/home/cy0/gitclones/open-source-in-environmental-sustainability/open-source-in-environmental-sustainability/chapters/overview.ipynb#X13sZmlsZQ%3D%3D?line=20'>21</a>\u001b[0m     \u001b[39m#color_continuous_midpoint=df_active['development_distribution_score'].median(), # Diverging colors\u001b[39;49;00m\n\u001b[1;32m     <a href='vscode-notebook-cell:/home/cy0/gitclones/open-source-in-environmental-sustainability/open-source-in-environmental-sustainability/chapters/overview.ipynb#X13sZmlsZQ%3D%3D?line=21'>22</a>\u001b[0m )\n\u001b[1;32m     <a href='vscode-notebook-cell:/home/cy0/gitclones/open-source-in-environmental-sustainability/open-source-in-environmental-sustainability/chapters/overview.ipynb#X13sZmlsZQ%3D%3D?line=23'>24</a>\u001b[0m fig\u001b[39m.\u001b[39mupdate_layout(\n\u001b[1;32m     <a href='vscode-notebook-cell:/home/cy0/gitclones/open-source-in-environmental-sustainability/open-source-in-environmental-sustainability/chapters/overview.ipynb#X13sZmlsZQ%3D%3D?line=24'>25</a>\u001b[0m     \u001b[39m# title=\"Ecosystem overview\",\u001b[39;00m\n\u001b[1;32m     <a href='vscode-notebook-cell:/home/cy0/gitclones/open-source-in-environmental-sustainability/open-source-in-environmental-sustainability/chapters/overview.ipynb#X13sZmlsZQ%3D%3D?line=25'>26</a>\u001b[0m     coloraxis_colorbar\u001b[39m=\u001b[39m\u001b[39mdict\u001b[39m(title\u001b[39m=\u001b[39m\u001b[39m'\u001b[39m\u001b[39m<b> Development Distribution Score </b>\u001b[39m\u001b[39m'\u001b[39m,\n\u001b[0;32m   (...)\u001b[0m\n\u001b[1;32m     <a href='vscode-notebook-cell:/home/cy0/gitclones/open-source-in-environmental-sustainability/open-source-in-environmental-sustainability/chapters/overview.ipynb#X13sZmlsZQ%3D%3D?line=38'>39</a>\u001b[0m     font_color\u001b[39m=\u001b[39m\u001b[39m\"\u001b[39m\u001b[39mblack\u001b[39m\u001b[39m\"\u001b[39m\n\u001b[1;32m     <a href='vscode-notebook-cell:/home/cy0/gitclones/open-source-in-environmental-sustainability/open-source-in-environmental-sustainability/chapters/overview.ipynb#X13sZmlsZQ%3D%3D?line=39'>40</a>\u001b[0m )\n\u001b[1;32m     <a href='vscode-notebook-cell:/home/cy0/gitclones/open-source-in-environmental-sustainability/open-source-in-environmental-sustainability/chapters/overview.ipynb#X13sZmlsZQ%3D%3D?line=40'>41</a>\u001b[0m fig\u001b[39m.\u001b[39mupdate_coloraxes(colorbar_title_side\u001b[39m=\u001b[39m\u001b[39m'\u001b[39m\u001b[39mtop\u001b[39m\u001b[39m'\u001b[39m)\n",
      "File \u001b[0;32m~/.local/lib/python3.8/site-packages/plotly/express/_chart_types.py:1541\u001b[0m, in \u001b[0;36msunburst\u001b[0;34m(data_frame, names, values, parents, path, ids, color, color_continuous_scale, range_color, color_continuous_midpoint, color_discrete_sequence, color_discrete_map, hover_name, hover_data, custom_data, labels, title, template, width, height, branchvalues, maxdepth)\u001b[0m\n\u001b[1;32m   1539\u001b[0m \u001b[39mif\u001b[39;00m path \u001b[39mis\u001b[39;00m \u001b[39mnot\u001b[39;00m \u001b[39mNone\u001b[39;00m \u001b[39mand\u001b[39;00m branchvalues \u001b[39mis\u001b[39;00m \u001b[39mNone\u001b[39;00m:\n\u001b[1;32m   1540\u001b[0m     branchvalues \u001b[39m=\u001b[39m \u001b[39m\"\u001b[39m\u001b[39mtotal\u001b[39m\u001b[39m\"\u001b[39m\n\u001b[0;32m-> 1541\u001b[0m \u001b[39mreturn\u001b[39;00m make_figure(\n\u001b[1;32m   1542\u001b[0m     args\u001b[39m=\u001b[39;49m\u001b[39mlocals\u001b[39;49m(),\n\u001b[1;32m   1543\u001b[0m     constructor\u001b[39m=\u001b[39;49mgo\u001b[39m.\u001b[39;49mSunburst,\n\u001b[1;32m   1544\u001b[0m     trace_patch\u001b[39m=\u001b[39;49m\u001b[39mdict\u001b[39;49m(branchvalues\u001b[39m=\u001b[39;49mbranchvalues, maxdepth\u001b[39m=\u001b[39;49mmaxdepth),\n\u001b[1;32m   1545\u001b[0m     layout_patch\u001b[39m=\u001b[39;49mlayout_patch,\n\u001b[1;32m   1546\u001b[0m )\n",
      "File \u001b[0;32m~/.local/lib/python3.8/site-packages/plotly/express/_core.py:1990\u001b[0m, in \u001b[0;36mmake_figure\u001b[0;34m(args, constructor, trace_patch, layout_patch)\u001b[0m\n\u001b[1;32m   1987\u001b[0m layout_patch \u001b[39m=\u001b[39m layout_patch \u001b[39mor\u001b[39;00m {}\n\u001b[1;32m   1988\u001b[0m apply_default_cascade(args)\n\u001b[0;32m-> 1990\u001b[0m args \u001b[39m=\u001b[39m build_dataframe(args, constructor)\n\u001b[1;32m   1991\u001b[0m \u001b[39mif\u001b[39;00m constructor \u001b[39min\u001b[39;00m [go\u001b[39m.\u001b[39mTreemap, go\u001b[39m.\u001b[39mSunburst, go\u001b[39m.\u001b[39mIcicle] \u001b[39mand\u001b[39;00m args[\u001b[39m\"\u001b[39m\u001b[39mpath\u001b[39m\u001b[39m\"\u001b[39m] \u001b[39mis\u001b[39;00m \u001b[39mnot\u001b[39;00m \u001b[39mNone\u001b[39;00m:\n\u001b[1;32m   1992\u001b[0m     args \u001b[39m=\u001b[39m process_dataframe_hierarchy(args)\n",
      "File \u001b[0;32m~/.local/lib/python3.8/site-packages/plotly/express/_core.py:1405\u001b[0m, in \u001b[0;36mbuild_dataframe\u001b[0;34m(args, constructor)\u001b[0m\n\u001b[1;32m   1402\u001b[0m     args[\u001b[39m\"\u001b[39m\u001b[39mcolor\u001b[39m\u001b[39m\"\u001b[39m] \u001b[39m=\u001b[39m \u001b[39mNone\u001b[39;00m\n\u001b[1;32m   1403\u001b[0m \u001b[39m# now that things have been prepped, we do the systematic rewriting of `args`\u001b[39;00m\n\u001b[0;32m-> 1405\u001b[0m df_output, wide_id_vars \u001b[39m=\u001b[39m process_args_into_dataframe(\n\u001b[1;32m   1406\u001b[0m     args, wide_mode, var_name, value_name\n\u001b[1;32m   1407\u001b[0m )\n\u001b[1;32m   1409\u001b[0m \u001b[39m# now that `df_output` exists and `args` contains only references, we complete\u001b[39;00m\n\u001b[1;32m   1410\u001b[0m \u001b[39m# the special-case and wide-mode handling by further rewriting args and/or mutating\u001b[39;00m\n\u001b[1;32m   1411\u001b[0m \u001b[39m# df_output\u001b[39;00m\n\u001b[1;32m   1413\u001b[0m count_name \u001b[39m=\u001b[39m _escape_col_name(df_output, \u001b[39m\"\u001b[39m\u001b[39mcount\u001b[39m\u001b[39m\"\u001b[39m, [var_name, value_name])\n",
      "File \u001b[0;32m~/.local/lib/python3.8/site-packages/plotly/express/_core.py:1207\u001b[0m, in \u001b[0;36mprocess_args_into_dataframe\u001b[0;34m(args, wide_mode, var_name, value_name)\u001b[0m\n\u001b[1;32m   1205\u001b[0m         \u001b[39mif\u001b[39;00m argument \u001b[39m==\u001b[39m \u001b[39m\"\u001b[39m\u001b[39mindex\u001b[39m\u001b[39m\"\u001b[39m:\n\u001b[1;32m   1206\u001b[0m             err_msg \u001b[39m+\u001b[39m\u001b[39m=\u001b[39m \u001b[39m\"\u001b[39m\u001b[39m\\n\u001b[39;00m\u001b[39m To use the index, pass it in directly as `df.index`.\u001b[39m\u001b[39m\"\u001b[39m\n\u001b[0;32m-> 1207\u001b[0m         \u001b[39mraise\u001b[39;00m \u001b[39mValueError\u001b[39;00m(err_msg)\n\u001b[1;32m   1208\u001b[0m \u001b[39melif\u001b[39;00m length \u001b[39mand\u001b[39;00m \u001b[39mlen\u001b[39m(df_input[argument]) \u001b[39m!=\u001b[39m length:\n\u001b[1;32m   1209\u001b[0m     \u001b[39mraise\u001b[39;00m \u001b[39mValueError\u001b[39;00m(\n\u001b[1;32m   1210\u001b[0m         \u001b[39m\"\u001b[39m\u001b[39mAll arguments should have the same length. \u001b[39m\u001b[39m\"\u001b[39m\n\u001b[1;32m   1211\u001b[0m         \u001b[39m\"\u001b[39m\u001b[39mThe length of column argument `df[\u001b[39m\u001b[39m%s\u001b[39;00m\u001b[39m]` is \u001b[39m\u001b[39m%d\u001b[39;00m\u001b[39m, whereas the \u001b[39m\u001b[39m\"\u001b[39m\n\u001b[0;32m   (...)\u001b[0m\n\u001b[1;32m   1218\u001b[0m         )\n\u001b[1;32m   1219\u001b[0m     )\n",
      "\u001b[0;31mValueError\u001b[0m: Value of 'path_1' is not the name of a column in 'data_frame'. Expected one of ['Unnamed: 0.2', 'Unnamed: 0', 'Unnamed: 0.1', 'Unnamed: 0.1.1', 'Unnamed: 0.1.1.1', 'Unnamed: 0.1.1.1.1', 'Unnamed: 0.1.1.1.1.1', 'Unnamed: 0.1.1.1.1.1.1', 'Unnamed: 0.1.1.1.1.1.1.1', 'Unnamed: 0.1.1.1.1.1.1.1.1', 'Unnamed: 0.1.1.1.1.1.1.1.1.1', 'Unnamed: 0.1.1.1.1.1.1.1.1.1.1', 'Unnamed: 0.1.1.1.1.1.1.1.1.1.1.1', 'Unnamed: 0.1.1.1.1.1.1.1.1.1.1.1.1', 'Unnamed: 0.1.1.1.1.1.1.1.1.1.1.1.1.1', 'Unnamed: 0.1.1.1.1.1.1.1.1.1.1.1.1.1.1', 'Unnamed: 0.1.1.1.1.1.1.1.1.1.1.1.1.1.1.1', 'Unnamed: 0.1.1.1.1.1.1.1.1.1.1.1.1.1.1.1.1', 'Unnamed: 0.1.1.1.1.1.1.1.1.1.1.1.1.1.1.1.1.1', 'Unnamed: 0.1.1.1.1.1.1.1.1.1.1.1.1.1.1.1.1.1.1', 'Unnamed: 0.1.1.1.1.1.1.1.1.1.1.1.1.1.1.1.1.1.1.1', 'Unnamed: 0.1.1.1.1.1.1.1.1.1.1.1.1.1.1.1.1.1.1.1.1', 'project_name', 'oneliner', 'git_namespace', 'git_url', 'platform', 'labels', 'topic', 'last_commit_date', 'stargazers_count', 'number_of_dependents', 'stars_last_year', 'project_active', 'dominating_language', 'organization', 'organization_user_name', 'languages', 'homepage', 'refs', 'project_created', 'project_age_in_days', 'license', 'total_commits_last_year', 'total_number_of_commits', 'last_issue_closed', 'open_issues', 'closed_pullrequests', 'closed_issues', 'issues_closed_last_year', 'days_until_last_issue_closed', 'open_pullrequests', 'reviews_per_pr', 'development_distribution_score', 'last_released_date', 'last_release_tag_name', 'good_first_issue', 'contributors', 'accepts_donations', 'donation_platforms', 'code_of_conduct', 'contribution_guide', 'dependents_repos', 'organization_name', 'organization_github_url', 'organization_website', 'organization_location', 'organization_country', 'organization_form', 'organization_avatar', 'organization_public_repos', 'organization_created', 'organization_last_update', 'project_age_in_years', 'field', 'activity', 'community', 'size', 'total_score', 'hole'] but received: field_bolt"
     ]
    }
   ],
   "source": [
    "import numpy as np\n",
    "import pandas as pd\n",
    "import plotly.io as pio\n",
    "import plotly.graph_objects as go\n",
    "import plotly.express as px\n",
    "from opensustainTemplate import *\n",
    "\n",
    "df_active = pd.read_csv(\"../csv/project_analysis.csv\")\n",
    "\n",
    "\n",
    "fig = px.sunburst(\n",
    "    df_active.assign(\n",
    "        hole='<b> The Open Source <br> Sustainability Ecosystem </b>'\n",
    "    ),\n",
    "    path=[\"hole\", \"field_bolt\", \"topic_bolt\", \"project_name\"],\n",
    "    maxdepth=3,\n",
    "    color=\"development_distribution_score\",\n",
    "    custom_data=[\"oneliner\", \"topic\", \"git_url\"],\n",
    "    color_continuous_scale=px.colors.sequential.Aggrnyl_r,\n",
    "    #color_continuous_scale=color_divergent_scale, # Diverging colors\n",
    "    #color_continuous_midpoint=df_active['development_distribution_score'].median(), # Diverging colors\n",
    ")\n",
    "\n",
    "fig.update_layout(\n",
    "    # title=\"Ecosystem overview\",\n",
    "    coloraxis_colorbar=dict(title='<b> Development Distribution Score </b>',\n",
    "    orientation='h',\n",
    "    y=-0.15,\n",
    "    x=0.5\n",
    "    ),\n",
    "    height=1200,\n",
    "    # width=1000,\n",
    "    title_x=0.5,\n",
    "    font_size=18,\n",
    "    dragmode=False,\n",
    "    margin=dict(l=2, r=2, b=0, t=10),\n",
    "    title_font_family=\"Open Sans\",\n",
    "    font_family=\"Open Sans\",\n",
    "    font_color=\"black\"\n",
    ")\n",
    "fig.update_coloraxes(colorbar_title_side='top')\n",
    "# animated transitions are currently not implemented when uniformtext is used\n",
    "fig.update_traces(\n",
    "    insidetextorientation=\"radial\",\n",
    "    # texttemplate = '%{label}<br>%{percentRoot:.0%}',\n",
    "    marker=dict(line=dict(color=\"#000000\", width=2)),\n",
    "    hovertemplate=\"<br>\".join(\n",
    "        [   \"<b>%{label}</b>\",\n",
    "            \"%{customdata[1]}\",\n",
    "            \"%{customdata[0]}\",\n",
    "            \"%{customdata[2]}\",\n",
    "        ]\n",
    "    ),\n",
    ")\n",
    "\n",
    "config = {'responsive': True, \n",
    "            'toImageButtonOptions':{\n",
    "                # 'width': 2000,\n",
    "                # 'height': 2000,\n",
    "                'format': 'svg',\n",
    "                'filename': 'The_Open_Source_Sustainability_Ecosystem'}}\n",
    "\n",
    "fig.show(config=config)"
   ]
  },
  {
   "attachments": {},
   "cell_type": "markdown",
   "metadata": {},
   "source": [
    "```{figure} data:image/gif;base64,R0lGODlhAQABAIAAAAAAAP///yH5BAEAAAAALAAAAAABAAEAAAIBRAA7\n",
    ":figclass: caption-hack\n",
    ":name: projects-within-sectors\n",
    "\\- All studied projects grouped into the corresponding fields and topics\n",
    "```\n",
    "\n",
    "`````{admonition} Tip\n",
    ":class: tip\n",
    "The above plot is fully interactive. Drill into fields, topics, and projects with a click! The project name links to the project's repository.\n",
    "`````"
   ]
  },
  {
   "attachments": {},
   "cell_type": "markdown",
   "metadata": {
    "tags": [
     "remove-cell"
    ]
   },
   "source": []
  },
  {
   "cell_type": "code",
   "execution_count": null,
   "metadata": {
    "tags": [
     "full-width",
     "remove-cell"
    ]
   },
   "outputs": [],
   "source": [
    "# Save the dataset with the scores\n",
    "df_active_path = \"../csv/project_analysis.csv\"\n",
    "df_active.to_csv(df_active_path)"
   ]
  }
 ],
 "metadata": {
  "celltoolbar": "Tags",
  "kernelspec": {
   "display_name": "Python 3",
   "language": "python",
   "name": "python3"
  },
  "language_info": {
   "codemirror_mode": {
    "name": "ipython",
    "version": 3
   },
   "file_extension": ".py",
   "mimetype": "text/x-python",
   "name": "python",
   "nbconvert_exporter": "python",
   "pygments_lexer": "ipython3",
   "version": "3.8.10"
  },
  "tags": "full-width",
  "vscode": {
   "interpreter": {
    "hash": "e7370f93d1d0cde622a1f8e1c04877d8463912d04d973331ad4851f04de6915a"
   }
  }
 },
 "nbformat": 4,
 "nbformat_minor": 4
}
